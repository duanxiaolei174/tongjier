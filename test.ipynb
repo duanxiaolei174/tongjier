{
 "cells": [
  {
   "cell_type": "code",
   "execution_count": 1,
   "metadata": {},
   "outputs": [
    {
     "name": "stdout",
     "output_type": "stream",
     "text": [
      "hello world\n"
     ]
    }
   ],
   "source": [
    "print('hello world')"
   ]
  },
  {
   "cell_type": "code",
   "execution_count": 3,
   "metadata": {},
   "outputs": [],
   "source": [
    "class Kaifang(object):\n",
    "    \"\"\"docstring for Kaifang\"\"\"\n",
    "\n",
    "    def __init__(self):\n",
    "        self.file_path = '/Users/lenovo/Desktop/day01/kaifangX.txt'\n",
    "        self.man = 0\n",
    "        self.woman = 0\n",
    "        self.lines_total = 0\n",
    "        self.lines = None\n",
    "\n",
    "    def total_line(self):\n",
    "        with open(self.file_path, 'r', encoding='gbk', errors='ignore') as f:\n",
    "            self.lines = f.readlines() # 返回的是一个列表\n",
    "            self.lines_total = len(self.lines) # 获得所有行数\n",
    "            print(self.lines_total)\n",
    "\n",
    "    def get_man_woman(self):\n",
    "        self.total_line() #函数套用\n",
    "        for line in self.lines:\n",
    "            try:\n",
    "                gender = line.split(',')[2]\n",
    "                if gender == 'F':\n",
    "                    self.woman += 1\n",
    "                if gender == 'M':\n",
    "                    self.man += 1\n",
    "            except Exception as e:\n",
    "                print(e)\n",
    "                print('未获取到性别')\n",
    "                continue\n",
    "        print('woman:%d' % self.woman)\n",
    "        print('man:%d' % self.man)\n",
    "\n",
    "    def percent(self):\n",
    "        self.get_man_woman()#函数套用\n",
    "        print('woman percent is:', (self.woman / self.lines_total) * 100, '%')\n",
    "        print('man percent is:', (self.man / self.lines_total) * 100, '%')"
   ]
  },
  {
   "cell_type": "code",
   "execution_count": null,
   "metadata": {},
   "outputs": [],
   "source": []
  }
 ],
 "metadata": {
  "kernelspec": {
   "display_name": "Python 3",
   "language": "python",
   "name": "python3"
  },
  "language_info": {
   "codemirror_mode": {
    "name": "ipython",
    "version": 3
   },
   "file_extension": ".py",
   "mimetype": "text/x-python",
   "name": "python",
   "nbconvert_exporter": "python",
   "pygments_lexer": "ipython3",
   "version": "3.6.4"
  }
 },
 "nbformat": 4,
 "nbformat_minor": 2
}
